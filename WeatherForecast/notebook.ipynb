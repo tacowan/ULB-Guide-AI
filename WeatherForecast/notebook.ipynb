{
 "cells": [
  {
   "cell_type": "markdown",
   "metadata": {},
   "source": [
    "# Weather forecaster 🌦️⛅🌞\n",
    "\n",
    "Forecast the weather for locations specified by our customer.\n",
    "Traveler's need good weather forecasts to plan appropriate attire and plan activities.\n",
    "AI will take on the Meteorologist persona and generate a friendly weather forecast summary using near real-time weather data from [tomorrow.io](https://tomorrow.io)."
   ]
  },
  {
   "cell_type": "markdown",
   "metadata": {},
   "source": [
    "Instructions for getting started with this Ultralight Backpackers AI trek are on the [GitHub page's README](../README.md). "
   ]
  },
  {
   "cell_type": "markdown",
   "metadata": {},
   "source": [
    "# 🧭🥾 Ultralight gear list for AI-driven Weather Forecasts\n",
    "\n",
    "- 1 JSON fromatted daily weather forcast.  We need the highest quality gear available so we'll use [tomorrow.io](https://www.tomorrow.io/).\n",
    "- 1 [Semantic Plugin GetLatLon](./plugins-sk/Weather/GetLatLon/skprompt.txt) to help the language model return latitude and longitude in a very specific format\n",
    "- 1 [Semantic Plugin Summarize](./plugins-sk/Weather/Summarize/skprompt.txt) giving the language model a weather forecaster persona.\n",
    "\n"
   ]
  },
  {
   "cell_type": "markdown",
   "metadata": {},
   "source": [
    "> [!IMPORTANT]\n",
    "> You will need an [.Net 7 SDK](https://dotnet.microsoft.com/en-us/download) and [Polyglot](https://marketplace.visualstudio.com/items?itemName=ms-dotnettools.dotnet-interactive-vscode) to get started with this notebook using .Net Interactive"
   ]
  },
  {
   "cell_type": "markdown",
   "metadata": {},
   "source": [
    "# Gather the core tools 🧰\n",
    "\n",
    "When running the following cell, if asked to \"select your kernel\" (note this will be referring to the Jupyter notebook's kernel and not Semantic Kernel) then choose `.NET Interactive` from the available menu options."
   ]
  },
  {
   "cell_type": "code",
   "execution_count": null,
   "metadata": {
    "dotnet_interactive": {
     "language": "csharp"
    },
    "polyglot_notebook": {
     "kernelName": "csharp"
    },
    "vscode": {
     "languageId": "polyglot-notebook"
    }
   },
   "outputs": [],
   "source": [
    "// Load some helper functions, e.g. to load values from settings.json\n",
    "#!import ../config/Settings.cs \n",
    "#!import ../plugins/WeatherPlugin.cs\n",
    "#r \"nuget: Microsoft.SemanticKernel, 1.0.0-beta1\"\n"
   ]
  },
  {
   "cell_type": "markdown",
   "metadata": {},
   "source": [
    "# Fire up a kernel 🔥"
   ]
  },
  {
   "cell_type": "code",
   "execution_count": null,
   "metadata": {
    "dotnet_interactive": {
     "language": "csharp"
    },
    "polyglot_notebook": {
     "kernelName": "csharp"
    },
    "vscode": {
     "languageId": "polyglot-notebook"
    }
   },
   "outputs": [],
   "source": [
    "using Microsoft.SemanticKernel;\n",
    "using System;\n",
    "using System.Threading.Tasks;\n",
    "using Microsoft.SemanticKernel.Planners;\n",
    "\n",
    "var builder = new KernelBuilder();\n",
    "var (useAzureOpenAI, model, azureEndpoint, apiKey, orgId, tomorrowioApiKey) = Settings.LoadFromFile();\n",
    "Console.WriteLine($\"Using 🧱 Model: {model}\");\n",
    "\n",
    "if (useAzureOpenAI)\n",
    "    builder.WithAzureChatCompletionService(model, azureEndpoint, apiKey);\n",
    "else\n",
    "    builder.WithOpenAIChatCompletionService(model, apiKey, orgId);\n",
    "\n",
    "IKernel kernel = builder.Build();\n",
    "// Load the Plugins\n",
    "kernel.ImportFunctions(new WeatherSkill(tomorrowioApiKey), \"WeatherPlugin\");\n",
    "kernel.ImportSemanticFunctionsFromDirectory(\"plugins-sk\", \"Weather\");\n",
    "\n",
    "var plannerConfig = new SequentialPlannerConfig();\n",
    "//plannerConfig.ExcludedFunctions.Add(\"Summarize\");\n",
    "var planner = new SequentialPlanner(kernel, plannerConfig);\n"
   ]
  },
  {
   "cell_type": "markdown",
   "metadata": {},
   "source": [
    "# Use 🗺️ planner and several 🔌 PLUGINs with 📄 input of your choice"
   ]
  },
  {
   "cell_type": "code",
   "execution_count": null,
   "metadata": {
    "dotnet_interactive": {
     "language": "csharp"
    },
    "polyglot_notebook": {
     "kernelName": "csharp"
    },
    "vscode": {
     "languageId": "polyglot-notebook"
    }
   },
   "outputs": [],
   "source": [
    "using Microsoft.SemanticKernel.Orchestration;\n",
    "using Microsoft.SemanticKernel.Plugins.Core;\n",
    "\n",
    "TimeSpan startTime = TimeSpan.FromTicks(DateTime.Now.Ticks);\n",
    "string[] sentences = new string[] {\n",
    "    \"What is the weather forecast for Austin, Texas?\",\n",
    "    \"What is the weather forecast for Austin, Texas tomorrow?\",\n",
    "    \"What is the weather forecast for Austin, Texas on Friday?\",\n",
    "    \"What is the weather forecast for College Station, TX?\",\n",
    "    \"What will the weather be like in Chicago tomorrow?\",\n",
    "    \"Will it rain this week in Seattle, Washington?\"\n",
    "};\n",
    "\n",
    "// create a random int between 0 and 4\n",
    "var random = new Random();\n",
    "var randomIndex = random.Next(0, 5);\n",
    "var plan = await planner.CreatePlanAsync(sentences[randomIndex]);\n",
    "Console.WriteLine($\"Using 🗺️ Plan: {plan.Description}\");\n",
    "Console.WriteLine($\"{plan.Display()}\");\n"
   ]
  },
  {
   "cell_type": "markdown",
   "metadata": {},
   "source": [
    "# ➡️Section Hike the 🗺️plan, using the 🧰tools we carefully packed"
   ]
  },
  {
   "cell_type": "code",
   "execution_count": null,
   "metadata": {
    "dotnet_interactive": {
     "language": "csharp"
    },
    "polyglot_notebook": {
     "kernelName": "csharp"
    },
    "vscode": {
     "languageId": "polyglot-notebook"
    }
   },
   "outputs": [],
   "source": [
    "using Microsoft.AspNetCore.Html;\n",
    "using Markdig;\n",
    "\n",
    "var myResult = await plan.InvokeAsync(kernel);\n",
    "var myPipeline = new MarkdownPipelineBuilder().UseAdvancedExtensions().Build();\n",
    "var myResult2HTML = Markdown.ToHtml(\"# The forecast?\\n\" + myResult.GetValue<string>(), myPipeline);\n",
    "var myHTMLContent = new HtmlContentBuilder();\n",
    "\n",
    "myHTMLContent.AppendHtml(myResult2HTML);\n",
    "myHTMLContent"
   ]
  }
 ],
 "metadata": {
  "kernelspec": {
   "display_name": ".NET (C#)",
   "language": "C#",
   "name": ".net-csharp"
  },
  "language_info": {
   "name": "python"
  },
  "orig_nbformat": 4,
  "polyglot_notebook": {
   "kernelInfo": {
    "defaultKernelName": "csharp",
    "items": [
     {
      "aliases": [],
      "name": "csharp"
     }
    ]
   }
  }
 },
 "nbformat": 4,
 "nbformat_minor": 2
}
