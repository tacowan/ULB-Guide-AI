{
 "cells": [
  {
   "cell_type": "markdown",
   "metadata": {},
   "source": [
    "# Travel Deals ✈️\n",
    "\n",
    "Airlines frequently market their flights by presenting a lineup of departure airports. Travelers must navigate through this list to locate their local airport and check out the latest promotions. Artificial intelligence can provide valuable assistance in this regard. Our journey commences with up-to-the-minute deals from Amadeus. During the journey, we leverage some unique methods to generate test data. In the end, we employ Semantic Kernel and Azure OpenAI to craft personalized emails that we can send directly to our target customers, featuring deals from their preferred airport."
   ]
  },
  {
   "cell_type": "markdown",
   "metadata": {},
   "source": [
    "Instructions for getting started with this Ultralight Backpackers AI trek are on the [GitHub page's README](../README.md). "
   ]
  },
  {
   "cell_type": "markdown",
   "metadata": {},
   "source": [
    "# Ultralight gear list for AI-driven travel merchandising🧗 \n",
    "\n",
    "- 1 JSON fromatted list of flight deals from your home airport.  Register as a developer on the [Amadeus API developer portal](https://developers.amadeus.com/).\n",
    "- 1 [Semantic Plugin TestData](./plugins-sk/TripPlans/TestData/skprompt.txt) to create test data.\n",
    "- 1 [Semantic Plugin EmailContent](./plugins-sk/TripPlans/EmailContent/skprompt.txt) acts as a travel marketing writer.\n",
    "\n"
   ]
  },
  {
   "cell_type": "markdown",
   "metadata": {},
   "source": [
    "> [!IMPORTANT]\n",
    "> You will need an [.Net 7 SDK](https://dotnet.microsoft.com/en-us/download) and [Polyglot](https://marketplace.visualstudio.com/items?itemName=ms-dotnettools.dotnet-interactive-vscode) to get started with this notebook using .Net Interactive"
   ]
  },
  {
   "cell_type": "markdown",
   "metadata": {},
   "source": [
    "# Gather gear for our trek 🔦🥾⛺\n",
    "\n",
    "When running the following cell, if asked to \"select your kernel\" (note this will be referring to the Jupyter notebook's kernel and not Semantic Kernel) then choose `.NET Interactive` from the available menu options."
   ]
  },
  {
   "cell_type": "code",
   "execution_count": null,
   "metadata": {
    "dotnet_interactive": {
     "language": "csharp"
    },
    "polyglot_notebook": {
     "kernelName": "csharp"
    },
    "vscode": {
     "languageId": "polyglot-notebook"
    }
   },
   "outputs": [],
   "source": [
    "// Load some helper functions, e.g. to load values from settings.json\n",
    "#!import ../config/Settings.cs \n",
    "#r \"nuget: Microsoft.SemanticKernel, *-*\"\n",
    "#r \"nuget: System.Net.Http.Json, *-*\"\n",
    "\n"
   ]
  },
  {
   "cell_type": "markdown",
   "metadata": {},
   "source": [
    "# Pack gear into the kernel 🚙\n",
    "We only pack what we need.  Semantic Kernel comes with a handy built-in HTTP plugin.  We're also importing two semantic functions.  One to create data for testing, and one that transforms real time pricing offers into an email."
   ]
  },
  {
   "cell_type": "code",
   "execution_count": null,
   "metadata": {
    "dotnet_interactive": {
     "language": "csharp"
    },
    "polyglot_notebook": {
     "kernelName": "csharp"
    },
    "tags": [
     "plugin import"
    ],
    "vscode": {
     "languageId": "polyglot-notebook"
    }
   },
   "outputs": [],
   "source": [
    "using Microsoft.SemanticKernel;\n",
    "using Microsoft.SemanticKernel.Plugins.Core;\n",
    "using System;\n",
    "using System.Net.Http;\n",
    "using System.Net.Http.Headers;\n",
    "using System.Threading.Tasks;\n",
    "\n",
    "var builder = new KernelBuilder();\n",
    "var (useAzureOpenAI, model, azureEndpoint, apiKey, orgId, tomorrowioApiKey, amadeusClientID, amadeusSecret) = Settings.LoadFromFile();\n",
    "var token = await Settings.ConnectOAuth(amadeusClientID, amadeusSecret);\n",
    "Console.WriteLine($\"Using 🧱 Model: {model}\");\n",
    "\n",
    "builder.WithAzureChatCompletionService(model, azureEndpoint, apiKey);\n",
    "IKernel kernel = builder.Build();\n",
    "\n",
    "var client = new HttpClient() { \n",
    "    BaseAddress = new Uri(\"https://test.api.amadeus.com\"), // <-LLMs need real ⏱️time data help\n",
    "    DefaultRequestHeaders =\n",
    "    {\n",
    "        Authorization =\n",
    "            new AuthenticationHeaderValue(\"Bearer\", token)\n",
    "    }\n",
    "};\n",
    "var http = kernel.ImportFunctions(new HttpPlugin(client), \"http\");\n",
    "var trip = kernel.ImportSemanticFunctionsFromDirectory(\"plugins-sk\", \"TripPlans\");\n"
   ]
  },
  {
   "cell_type": "markdown",
   "metadata": {},
   "source": [
    "#  Resupply: use a🔌plugin to create test 📄data"
   ]
  },
  {
   "cell_type": "code",
   "execution_count": null,
   "metadata": {
    "dotnet_interactive": {
     "language": "csharp"
    },
    "polyglot_notebook": {
     "kernelName": "csharp"
    },
    "vscode": {
     "languageId": "polyglot-notebook"
    }
   },
   "outputs": [],
   "source": [
    "var testData = trip[\"TestData\"].InvokeAsync(kernel);\n",
    "var testDataStr = testData.Result.GetValue<string>();\n",
    "var testDataArr = testDataStr.Split(',');\n",
    "Console.WriteLine(\"🧪test data \" + testDataStr);"
   ]
  },
  {
   "cell_type": "markdown",
   "metadata": {},
   "source": [
    "# Trail magic: 🔌plugin pipeline "
   ]
  },
  {
   "cell_type": "code",
   "execution_count": null,
   "metadata": {
    "dotnet_interactive": {
     "language": "csharp"
    },
    "polyglot_notebook": {
     "kernelName": "csharp"
    },
    "vscode": {
     "languageId": "polyglot-notebook"
    }
   },
   "outputs": [],
   "source": [
    "using Microsoft.SemanticKernel.Orchestration;\n",
    "using Microsoft.SemanticKernel.Plugins.Core;\n",
    "\n",
    "var trailMagic = new List<string>();\n",
    "foreach(var airport in testDataArr) {\n",
    "    var context = new ContextVariables(); \n",
    "    context[\"uri\"] = $\"v1/shopping/flight-destinations?origin={airport.Trim()}&oneWay=false&nonStop=false\";\n",
    "    \n",
    "    try {\n",
    "        Console.WriteLine(context[\"uri\"]);\n",
    "        // REST ---> JSON ---> Email formatting plugin ⬇️\n",
    "        var results = await kernel.RunAsync(context, http[\"get\"],trip[\"EmailContent\"]);\n",
    "        Console.WriteLine(results.GetValue<string>());\n",
    "        trailMagic.Add(results.GetValue<string>());\n",
    "    } catch (Exception e) {\n",
    "        Console.WriteLine(\"no prices for this one\");    \n",
    "    }\n",
    "    \n",
    "}\n",
    "\n",
    "\n"
   ]
  },
  {
   "cell_type": "markdown",
   "metadata": {},
   "source": [
    "# 🚶Hiker 🗒️log, show what we saw and did"
   ]
  },
  {
   "cell_type": "code",
   "execution_count": null,
   "metadata": {
    "dotnet_interactive": {
     "language": "csharp"
    },
    "polyglot_notebook": {
     "kernelName": "csharp"
    },
    "vscode": {
     "languageId": "polyglot-notebook"
    }
   },
   "outputs": [],
   "source": [
    "using Microsoft.AspNetCore.Html;\n",
    "using Markdig;\n",
    "\n",
    "var myPipeline = new MarkdownPipelineBuilder().UseAdvancedExtensions().Build();\n",
    "\n",
    "var myHTMLContent = new HtmlContentBuilder();\n",
    "\n",
    "foreach (var email in trailMagic) {\n",
    "    var myResult2HTML = Markdown.ToHtml(\"# ---------\\n\" + email, myPipeline);\n",
    "    myHTMLContent.AppendHtml(myResult2HTML);\n",
    "}\n",
    "myHTMLContent\n",
    "\n"
   ]
  }
 ],
 "metadata": {
  "kernelspec": {
   "display_name": ".NET (C#)",
   "language": "C#",
   "name": ".net-csharp"
  },
  "language_info": {
   "name": "python"
  },
  "orig_nbformat": 4,
  "polyglot_notebook": {
   "kernelInfo": {
    "defaultKernelName": "csharp",
    "items": [
     {
      "aliases": [],
      "name": "csharp"
     }
    ]
   }
  }
 },
 "nbformat": 4,
 "nbformat_minor": 2
}
