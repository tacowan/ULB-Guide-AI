{
 "cells": [
  {
   "cell_type": "markdown",
   "metadata": {},
   "source": [
    "# 🛫Gate Agent Assistant \n",
    "\n",
    "We know gate agents are expert reservation system users, but what if a flight attendant or fleet service agent needed to stand-in momentarily?  Or how about trainees? Can we make getting started with the reservation system easier?  This example shows how to make a simple Gate Agent assistant bot using mocked up reservation systems data.  "
   ]
  },
  {
   "cell_type": "markdown",
   "metadata": {},
   "source": [
    "Instructions for getting started with this Ultralight Backpackers AI trek are on the [GitHub page's README](../README.md). "
   ]
  },
  {
   "cell_type": "markdown",
   "metadata": {},
   "source": [
    "# Ultralight gear 📃list for 🤖AI-driven gate agent assistant\n",
    "\n",
    "- 1 [Semantic Plugin Chat](./plugins-sk/Reservations/Chat/skprompt.txt) to give the bot a Gate Agent assistant persona.\n",
    "- 1 [Semantic Plugin TestData](./plugins-sk/Reservations/TestData/skprompt.txt) to create test data.\n",
    "- 1 [Native Plugin GateAgentPlugin](../plugins/GateAgentPlugin.cs) to fullfill reservation system commands and create test itineraries.  (We are not connecting to a real reservation system, it's all pretend)\n",
    "\n"
   ]
  },
  {
   "cell_type": "markdown",
   "metadata": {},
   "source": [
    "> [!IMPORTANT]\n",
    "> You will need an [.Net 7 SDK](https://dotnet.microsoft.com/en-us/download) and [Polyglot](https://marketplace.visualstudio.com/items?itemName=ms-dotnettools.dotnet-interactive-vscode) to get started with this notebook using .Net Interactive"
   ]
  },
  {
   "cell_type": "markdown",
   "metadata": {},
   "source": [
    "# Gather gear for our trek 🔦🥾⛺\n",
    "\n",
    "When running the following cell, if asked to \"select your kernel\" (note this will be referring to the Jupyter notebook's kernel and not Semantic Kernel) then choose `.NET Interactive` from the available menu options."
   ]
  },
  {
   "cell_type": "code",
   "execution_count": 35,
   "metadata": {
    "dotnet_interactive": {
     "language": "csharp"
    },
    "polyglot_notebook": {
     "kernelName": "csharp"
    },
    "vscode": {
     "languageId": "polyglot-notebook"
    }
   },
   "outputs": [
    {
     "data": {
      "text/html": [
       "<div><div></div><div></div><div><strong>Installed Packages</strong><ul><li><span>Microsoft.SemanticKernel, 1.0.0-beta5</span></li></ul></div></div>"
      ]
     },
     "metadata": {},
     "output_type": "display_data"
    }
   ],
   "source": [
    "#!import ../config/Settings.cs\n",
    "#!import ../plugins/GateAgentPlugin.cs\n",
    "#r \"nuget: Microsoft.SemanticKernel, *-*\"\n",
    "\n",
    "using Microsoft.SemanticKernel.Planners;\n",
    "using Microsoft.SemanticKernel;\n",
    "using System.IO;\n",
    "\n",
    "// Grab the locally stored credentials from the settings.json file. \n",
    "\n",
    "var (useAzureOpenAI, model, azureEndpoint, apiKey, orgId, unused1, unused2, unused3) = Settings.LoadFromFile();\n",
    "var builder = new KernelBuilder();\n",
    "builder.WithAzureChatCompletionService(model, azureEndpoint, apiKey);\n",
    "IKernel kernel = builder.Build();\n",
    "\n",
    "var planner = new ActionPlanner(kernel);\n",
    "var semanticPlugins = kernel.ImportSemanticFunctionsFromDirectory(\"plugins-sk\", \"Reservations\");\n",
    "var myContext = new ContextVariables();"
   ]
  },
  {
   "cell_type": "markdown",
   "metadata": {},
   "source": [
    "# Use AI to create some 🧪test PNR records\n",
    "Use genAI to create test data for a 🔁genAI Bot. "
   ]
  },
  {
   "cell_type": "code",
   "execution_count": 36,
   "metadata": {
    "dotnet_interactive": {
     "language": "csharp"
    },
    "polyglot_notebook": {
     "kernelName": "csharp"
    },
    "vscode": {
     "languageId": "polyglot-notebook"
    }
   },
   "outputs": [
    {
     "data": {
      "text/plain": [
       "Smith, Jill, FGDHKL, UA123 \n",
       "Johnson, John, ABCDER, AA456 \n",
       "Lee, Sarah, WXYZ12, DL789 \n",
       "Brown, Michael, KLMN34, UA567 \n",
       "Davis, Emily, PQRS56, AA789 \n"
      ]
     },
     "metadata": {},
     "output_type": "display_data"
    }
   ],
   "source": [
    "var sample = ReservationSystemSkill.getSampleData();\n",
    "var myResult = await kernel.RunAsync(sample,semanticPlugins[\"TestData\"]);\n",
    "//Console.WriteLine(myResult.GetValue<string>());\n",
    "var gateAgentPlugin = new ReservationSystemSkill(myResult.GetValue<string>());\n",
    "gateAgentPlugin.Context = myContext;\n",
    "var functions = kernel.ImportFunctions(gateAgentPlugin, \"reservations\");\n",
    "gateAgentPlugin.summarizeTestData()"
   ]
  },
  {
   "cell_type": "markdown",
   "metadata": {},
   "source": [
    "# 🥾Hike the ➰loop as many times as you like\n",
    "This is a very easy trail and only has a few features.\n",
    "- find intinerary or find PNR, for example, ask it to \"Find PNR for Andrew Skurka\"\n",
    "- change a seat, ex: \"Change seat to 23D\", it'll figure things out from context.\n",
    "- Show the PNR, ex: \"show PNR details as a table with column headings\"\n",
    "- Ask it questions about the itinerary, ex: \"what is the fligth duration\"\n",
    "\n",
    "Some of the capabilities are from the plugin, others are native capabilities of the language model."
   ]
  },
  {
   "cell_type": "code",
   "execution_count": 31,
   "metadata": {
    "dotnet_interactive": {
     "language": "csharp"
    },
    "polyglot_notebook": {
     "kernelName": "csharp"
    },
    "vscode": {
     "languageId": "polyglot-notebook"
    }
   },
   "outputs": [
    {
     "name": "stdout",
     "output_type": "stream",
     "text": [
      "AI: Hello, standing by to help at Gate C17.\n",
      "Me: find pnr\n",
      "AI:(clarification) Sure. What is the passenger's first and last name?\n",
      "\n",
      "findPNRAsync called with Cowan, Taylor\n",
      "Me: taylor cowan\n",
      "AI:PNR found for Taylor Cowan. PNR: FGDHKL, Flight: UA123, Departure: SFO, Arrival: LAX, Departure Date: 2023-11-07, Arrival Date: 2023-11-07, Seat: 12A, Class: Economy.\n",
      "\n",
      "Me: change seat\n",
      "AI:(clarification) Sure. What seat do you want to change to?\n",
      "\n",
      "Me: 34F\n",
      "AI:Seat changed from 12A to 34F for passenger Taylor Cowan on flight UA123 from SFO to LAX on November 7, 2023. PNR: FGDHKL.\n",
      "\n"
     ]
    },
    {
     "ename": "Error",
     "evalue": "Input request cancelled",
     "output_type": "error",
     "traceback": [
      "Input request cancelled"
     ]
    },
    {
     "ename": "Error",
     "evalue": "Input request cancelled",
     "output_type": "error",
     "traceback": [
      "Input request cancelled"
     ]
    },
    {
     "name": "stdout",
     "output_type": "stream",
     "text": [
      "AI: Thanks for the wonderful chat!\r\n"
     ]
    }
   ],
   "source": [
    "using Microsoft.SemanticKernel.Orchestration;\n",
    "using InteractiveKernel = Microsoft.DotNet.Interactive.Kernel;\n",
    "\n",
    "var botPrompt = \"AI: Hello, standing by to help at Gate C17.\";\n",
    "Console.WriteLine(botPrompt);\n",
    "var history = $\"{botPrompt}\\n\";\n",
    "const int numberOfRounds = 40;\n",
    "myContext.Set(\"history\", history); \n",
    "\n",
    "for(var i = 0; i < numberOfRounds; i++) {\n",
    "    try {\n",
    "        // get input from the user and set the context variable\n",
    "        var input = await InteractiveKernel.GetInputAsync($\"{botPrompt}\");\n",
    "        myContext.Set(\"input\", (botPrompt.Contains(\"(clarification)\")) ?  myContext[\"last_input\"] + $\" {input}\" : input);     \n",
    "        string functionName = \"Chat\"; \n",
    "        try { // action planner is unstable for some input\n",
    "            var plan = await planner.CreatePlanAsync(myContext[\"input\"]);\n",
    "            //Console.WriteLine(plan.Display());\n",
    "            if (plan.HasNextStep && ReservationSystemSkill.hasParameters(plan)) {\n",
    "                functionName = \"GateAgent\";\n",
    "                await plan.InvokeAsync(kernel);\n",
    "            }\n",
    "        } catch {  }\n",
    "        var botResponse = (await kernel.RunAsync(myContext,semanticPlugins[functionName])).GetValue<string>();\n",
    " \n",
    "        // tack onto the history 👇 what's come back from the model\n",
    "        myContext.Set(\"history\", history += $\"Me: {input}\\nAI:{botResponse}\\n\"); // remember it\n",
    "        Console.WriteLine($\"Me: {input}\\nAI:{botResponse}\\n\"); // show it \n",
    " \n",
    "        // prepare to \"prompt\" the user with the bot's response\n",
    "        botPrompt = $\"AI: {botResponse}\";\n",
    "        myContext.Set(\"last_input\",input);\n",
    "    } catch {        \n",
    "        // if the user hits \"Escape\" we end the chat early\n",
    "        Console.WriteLine(\"AI: Thanks for the wonderful chat!\");\n",
    "        break;\n",
    "    }\n",
    "}"
   ]
  }
 ],
 "metadata": {
  "kernelspec": {
   "display_name": ".NET (C#)",
   "language": "C#",
   "name": ".net-csharp"
  },
  "language_info": {
   "name": "python"
  },
  "orig_nbformat": 4,
  "polyglot_notebook": {
   "kernelInfo": {
    "defaultKernelName": "csharp",
    "items": [
     {
      "aliases": [],
      "name": "csharp"
     }
    ]
   }
  }
 },
 "nbformat": 4,
 "nbformat_minor": 2
}
